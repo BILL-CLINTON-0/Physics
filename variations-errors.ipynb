{
 "cells": [
  {
   "cell_type": "code",
   "execution_count": 27,
   "metadata": {},
   "outputs": [],
   "source": [
    "%matplotlib inline\n",
    "import matplotlib.pyplot as plt"
   ]
  },
  {
   "cell_type": "code",
   "execution_count": 28,
   "metadata": {},
   "outputs": [],
   "source": [
    "import numpy as np\n",
    "Mesasure_s=np.array([582.2,588.1,582.1,582.0,600.0,606.0])"
   ]
  },
  {
   "cell_type": "code",
   "execution_count": 29,
   "metadata": {},
   "outputs": [],
   "source": [
    "MEAN=np.mean(Mesasure_s)"
   ]
  },
  {
   "cell_type": "code",
   "execution_count": 39,
   "metadata": {},
   "outputs": [
    {
     "name": "stdout",
     "output_type": "stream",
     "text": [
      "Average = 590.1\n"
     ]
    }
   ],
   "source": [
    "print(\"Average = {}\".format(round(MEAN,1)))"
   ]
  },
  {
   "cell_type": "code",
   "execution_count": 43,
   "metadata": {},
   "outputs": [
    {
     "name": "stdout",
     "output_type": "stream",
     "text": [
      "Std = 4.3\n"
     ]
    }
   ],
   "source": [
    "STDA=np.std(Mesasure_s, ddof=1)\n",
    "indetermination=STDA/np.sqrt(len(Mesasure_s))\n",
    "print(\"Std = {}\".format(round(indetermination,1)))"
   ]
  },
  {
   "cell_type": "code",
   "execution_count": 52,
   "metadata": {},
   "outputs": [
    {
     "data": {
      "image/png": "[encoded data removed]",
      "text/plain": [
       "<Figure size 432x288 with 1 Axes>"
      ]
     },
     "metadata": {
      "needs_background": "light"
     },
     "output_type": "display_data"
    }
   ],
   "source": [
    "\n",
    "\n",
    "N=len(Mesasure_s)\n",
    "ind = np.arange(N)\n",
    "width=0.5\n",
    "\n",
    "plt.plot([0-width,N],[MEAN,MEAN],color='red')\n",
    "plt.bar(ind,Mesasure_s, width, yerr=4*indetermination, align='center')\n",
    "\n",
    "plt.show()"
   ]
  },
  {
   "cell_type": "code",
   "execution_count": 55,
   "metadata": {},
   "outputs": [
    {
     "name": "stdout",
     "output_type": "stream",
     "text": [
      "The size of a mm in pixels is 590 +/- 17 px\n"
     ]
    }
   ],
   "source": [
    "print(\"The size of a mm in pixels is {:0.0f} +/- {:0.0f} px\".format(MEAN,4*indetermination))"
   ]
  },
  {
   "cell_type": "code",
   "execution_count": 17,
   "metadata": {},
   "outputs": [],
   "source": [
    "Mesasure_s1=np.array([45.2,45.4,43.7,43.7,38.3,43.4])"
   ]
  },
  {
   "cell_type": "code",
   "execution_count": 57,
   "metadata": {},
   "outputs": [
    {
     "name": "stdout",
     "output_type": "stream",
     "text": [
      "Average1 = 43.3\n"
     ]
    }
   ],
   "source": [
    "MEAN1=np.mean(Mesasure_s1)\n",
    "print(\"Average1 = {}\".format(round(MEAN1,1)))"
   ]
  },
  {
   "cell_type": "code",
   "execution_count": 58,
   "metadata": {},
   "outputs": [
    {
     "name": "stdout",
     "output_type": "stream",
     "text": [
      "Std = 1.1\n"
     ]
    }
   ],
   "source": [
    "STDA1=np.std(Mesasure_s1, ddof=1)\n",
    "indetermination1=STDA1/np.sqrt(len(Mesasure_s1))\n",
    "print(\"Std = {}\".format(round(indetermination1,1)))"
   ]
  },
  {
   "cell_type": "code",
   "execution_count": 106,
   "metadata": {},
   "outputs": [
    {
     "data": {
      "image/png": "[encoded data removed]",
      "text/plain": [
       "<Figure size 432x288 with 1 Axes>"
      ]
     },
     "metadata": {
      "needs_background": "light"
     },
     "output_type": "display_data"
    }
   ],
   "source": [
    "Mesasure_s2=Mesasure_s1[[0,1,2,3,5]]\n",
    "\n",
    "N=len(Mesasure_s2)\n",
    "ind = np.arange(N)\n",
    "width=0.5\n",
    "\n",
    "MEAN2=np.mean(Mesasure_s2)\n",
    "STDA2=np.std(Mesasure_s1, ddof=1)\n",
    "indetermination1=STDA2/np.sqrt(len(Mesasure_s2))\n",
    "\n",
    "plt.plot([0-width,N],[MEAN2,MEAN2],color='red')\n",
    "plt.bar(ind,Mesasure_s2, width, yerr=2*indetermination1, align='center')\n",
    "\n",
    "plt.show()"
   ]
  },
  {
   "cell_type": "code",
   "execution_count": 107,
   "metadata": {},
   "outputs": [
    {
     "name": "stdout",
     "output_type": "stream",
     "text": [
      "The size of a my hair in pixels is 44 +/- 9 px\n"
     ]
    }
   ],
   "source": [
    "print(\"The size of a my hair in pixels is {:0.0f} +/- {:0.0f} px\".format(MEAN2,2*indetermination))"
   ]
  },
  {
   "cell_type": "markdown",
   "metadata": {},
   "source": [
    "The size of my hair is $$\\frac{44}{590}.10^{-3}  \\pm \\mathrm{U} \\, in\\, m $$ where $\\mathrm{U}$ is the propagation for the undetermination  "
   ]
  },
  {
   "cell_type": "code",
   "execution_count": 112,
   "metadata": {},
   "outputs": [],
   "source": [
    "# Thus you may consider this is enough... \n",
    "d=44/590*1E-3\n",
    "# We have to continue for a couple of steps"
   ]
  },
  {
   "cell_type": "markdown",
   "metadata": {},
   "source": [
    "$$ \\frac{\\mathrm{U}(d)}{d} = \\sqrt{\\Big( \\big(\\frac{U(s)}{s}\\big)^2 + \\big(\\frac{U(S)}{S}\\big)^2   \\Big)} $$"
   ]
  },
  {
   "cell_type": "code",
   "execution_count": 113,
   "metadata": {},
   "outputs": [
    {
     "name": "stdout",
     "output_type": "stream",
     "text": [
      "The size of a my hair in µm is 75 +/- 4 µm\n"
     ]
    }
   ],
   "source": [
    "Us=2*indetermination1\n",
    "s=MEAN2\n",
    "\n",
    "US=4*indetermination\n",
    "S=MEAN\n",
    "\n",
    "Ud=d*np.sqrt( (Us/s)**2 + (US/S)**2 )\n",
    "\n",
    "print(\"The size of a my hair in µm is {:0.0f} +/- {:0.0f} µm\".format(d*1E6,Ud*1E6))"
   ]
  },
  {
   "cell_type": "code",
   "execution_count": null,
   "metadata": {},
   "outputs": [],
   "source": []
  }
 ],
 "metadata": {
  "kernelspec": {
   "display_name": "Python 3",
   "language": "python",
   "name": "python3"
  },
  "language_info": {
   "codemirror_mode": {
    "name": "ipython",
    "version": 3
   },
   "file_extension": ".py",
   "mimetype": "text/x-python",
   "name": "python",
   "nbconvert_exporter": "python",
   "pygments_lexer": "ipython3",
   "version": "3.7.1"
  }
 },
 "nbformat": 4,
 "nbformat_minor": 2
}
