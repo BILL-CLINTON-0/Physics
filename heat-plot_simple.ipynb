{
 "cells": [
  {
   "cell_type": "markdown",
   "metadata": {},
   "source": [
    "# Heat plot"
   ]
  },
  {
   "cell_type": "code",
   "execution_count": 1,
   "metadata": {
    "scrolled": true
   },
   "outputs": [
    {
     "name": "stdout",
     "output_type": "stream",
     "text": [
      "Requirement already satisfied: shapely in /Users/budu/miniconda3/lib/python3.7/site-packages (1.7.1)\n",
      "\u001b[33mWARNING: You are using pip version 20.1.1; however, version 21.0.1 is available.\n",
      "You should consider upgrading via the '/Users/budu/miniconda3/bin/python -m pip install --upgrade pip' command.\u001b[0m\n",
      "Note: you may need to restart the kernel to use updated packages.\n"
     ]
    }
   ],
   "source": [
    "pip install shapely"
   ]
  },
  {
   "cell_type": "code",
   "execution_count": 2,
   "metadata": {},
   "outputs": [
    {
     "name": "stdout",
     "output_type": "stream",
     "text": [
      "Requirement already satisfied: geopandas in /Users/budu/miniconda3/lib/python3.7/site-packages (0.9.0)\n",
      "Requirement already satisfied: pyproj>=2.2.0 in /Users/budu/miniconda3/lib/python3.7/site-packages (from geopandas) (3.0.1)\n",
      "Requirement already satisfied: fiona>=1.8 in /Users/budu/miniconda3/lib/python3.7/site-packages (from geopandas) (1.8.19)\n",
      "Requirement already satisfied: shapely>=1.6 in /Users/budu/miniconda3/lib/python3.7/site-packages (from geopandas) (1.7.1)\n",
      "Requirement already satisfied: pandas>=0.24.0 in /Users/budu/miniconda3/lib/python3.7/site-packages (from geopandas) (1.0.3)\n",
      "Requirement already satisfied: certifi in /Users/budu/miniconda3/lib/python3.7/site-packages (from pyproj>=2.2.0->geopandas) (2020.4.5.1)\n",
      "Requirement already satisfied: attrs>=17 in /Users/budu/miniconda3/lib/python3.7/site-packages (from fiona>=1.8->geopandas) (20.3.0)\n",
      "Requirement already satisfied: munch in /Users/budu/miniconda3/lib/python3.7/site-packages (from fiona>=1.8->geopandas) (2.5.0)\n",
      "Requirement already satisfied: cligj>=0.5 in /Users/budu/miniconda3/lib/python3.7/site-packages (from fiona>=1.8->geopandas) (0.7.1)\n",
      "Requirement already satisfied: click-plugins>=1.0 in /Users/budu/miniconda3/lib/python3.7/site-packages (from fiona>=1.8->geopandas) (1.1.1)\n",
      "Requirement already satisfied: click<8,>=4.0 in /Users/budu/miniconda3/lib/python3.7/site-packages (from fiona>=1.8->geopandas) (7.1.2)\n",
      "Requirement already satisfied: six>=1.7 in /Users/budu/miniconda3/lib/python3.7/site-packages (from fiona>=1.8->geopandas) (1.12.0)\n",
      "Requirement already satisfied: pytz>=2017.2 in /Users/budu/miniconda3/lib/python3.7/site-packages (from pandas>=0.24.0->geopandas) (2018.9)\n",
      "Requirement already satisfied: python-dateutil>=2.6.1 in /Users/budu/miniconda3/lib/python3.7/site-packages (from pandas>=0.24.0->geopandas) (2.8.0)\n",
      "Requirement already satisfied: numpy>=1.13.3 in /Users/budu/miniconda3/lib/python3.7/site-packages (from pandas>=0.24.0->geopandas) (1.16.2)\n",
      "\u001b[33mWARNING: You are using pip version 20.1.1; however, version 21.0.1 is available.\n",
      "You should consider upgrading via the '/Users/budu/miniconda3/bin/python -m pip install --upgrade pip' command.\u001b[0m\n",
      "Note: you may need to restart the kernel to use updated packages.\n"
     ]
    }
   ],
   "source": [
    "pip install geopandas"
   ]
  },
  {
   "cell_type": "code",
   "execution_count": 3,
   "metadata": {},
   "outputs": [],
   "source": [
    "%matplotlib inline\n",
    "import geopandas as gpd\n",
    "import numpy as np\n",
    "from scipy import ndimage\n",
    "\n",
    "import matplotlib.pylab as pylab\n",
    "import matplotlib.pyplot as plt\n",
    "\n",
    "#pylab.rcParams['figure.figsize'] = 8, 6\n"
   ]
  },
  {
   "cell_type": "code",
   "execution_count": 4,
   "metadata": {},
   "outputs": [
    {
     "name": "stdout",
     "output_type": "stream",
     "text": [
      "  some_attribute      lat      lon\n",
      "0            abc  50.1234  10.4023\n",
      "1            def  40.5678   8.3365\n",
      "2            ghi  60.9012   6.2541\n",
      "3            jkl  45.3456  12.5478\n",
      "4            mno  35.7890  14.3957\n"
     ]
    }
   ],
   "source": [
    "import pandas as pd\n",
    "data = [\n",
    "        {'some_attribute': 'abc', 'lat': '50.1234', 'lon': '10.4023'},\n",
    "        {'some_attribute': 'def', 'lat': '40.5678', 'lon': '8.3365'},\n",
    "        {'some_attribute': 'ghi', 'lat': '60.9012', 'lon': '6.2541'},\n",
    "        {'some_attribute': 'jkl', 'lat': '45.3456', 'lon': '12.5478'},\n",
    "        {'some_attribute': 'mno', 'lat': '35.7890', 'lon': '14.3957'},\n",
    "        ]\n",
    "\n",
    "df = pd.DataFrame(data)\n",
    "print(df)"
   ]
  },
  {
   "cell_type": "code",
   "execution_count": 5,
   "metadata": {},
   "outputs": [],
   "source": [
    "from shapely.geometry import Point\n",
    "\n",
    "# combine lat and lon column to a shapely Point() object\n",
    "df['geometry'] = df.apply(lambda x: Point((float(x.lon), float(x.lat))), axis=1)"
   ]
  },
  {
   "cell_type": "code",
   "execution_count": 7,
   "metadata": {},
   "outputs": [],
   "source": [
    "df = gpd.GeoDataFrame(df, geometry='geometry')"
   ]
  },
  {
   "cell_type": "code",
   "execution_count": 8,
   "metadata": {},
   "outputs": [
    {
     "name": "stderr",
     "output_type": "stream",
     "text": [
      "/Users/budu/miniconda3/lib/python3.7/site-packages/ipykernel_launcher.py:1: UserWarning: Column names longer than 10 characters will be truncated when saved to ESRI Shapefile.\n",
      "  \"\"\"Entry point for launching an IPython kernel.\n"
     ]
    }
   ],
   "source": [
    "df.to_file('points_demo.shp', driver='ESRI Shapefile')"
   ]
  },
  {
   "cell_type": "code",
   "execution_count": 9,
   "metadata": {},
   "outputs": [],
   "source": [
    "pts = gpd.GeoDataFrame.from_file('points_demo.shp')"
   ]
  },
  {
   "cell_type": "code",
   "execution_count": 10,
   "metadata": {},
   "outputs": [
    {
     "data": {
      "text/plain": [
       "<matplotlib.axes._subplots.AxesSubplot at 0x7f8d7c56a828>"
      ]
     },
     "execution_count": 10,
     "metadata": {},
     "output_type": "execute_result"
    },
    {
     "data": {
      "image/png": "[encoded data removed]",
      "text/plain": [
       "<Figure size 432x288 with 1 Axes>"
      ]
     },
     "metadata": {
      "needs_background": "light"
     },
     "output_type": "display_data"
    }
   ],
   "source": [
    "pts.plot()"
   ]
  },
  {
   "cell_type": "code",
   "execution_count": 11,
   "metadata": {},
   "outputs": [],
   "source": [
    "def heatmap(d, bins=(100,100), smoothing=1.3, cmap='jet'):\n",
    "    def getx(pt):\n",
    "        return pt.coords[0][0]\n",
    "\n",
    "    def gety(pt):\n",
    "        return pt.coords[0][1]\n",
    "\n",
    "    x = list(d.geometry.apply(getx))\n",
    "    y = list(d.geometry.apply(gety))\n",
    "    heatmap, xedges, yedges = np.histogram2d(y, x, bins=bins)\n",
    "    extent = [yedges[0], yedges[-1], xedges[-1], xedges[0]]\n",
    "\n",
    "    logheatmap = np.log(heatmap)\n",
    "    logheatmap[np.isneginf(logheatmap)] = 0\n",
    "    logheatmap = ndimage.filters.gaussian_filter(logheatmap, smoothing, mode='nearest')\n",
    "    \n",
    "    plt.imshow(logheatmap, cmap=cmap, extent=extent)\n",
    "    plt.colorbar()\n",
    "    plt.gca().invert_yaxis()\n",
    "    plt.show()"
   ]
  },
  {
   "cell_type": "code",
   "execution_count": 12,
   "metadata": {},
   "outputs": [
    {
     "data": {
      "image/png": "[encoded data removed]",
      "text/plain": [
       "<Figure size 432x288 with 2 Axes>"
      ]
     },
     "metadata": {
      "needs_background": "light"
     },
     "output_type": "display_data"
    }
   ],
   "source": [
    "heatmap(pts, bins=1, smoothing=1.5)"
   ]
  },
  {
   "cell_type": "code",
   "execution_count": null,
   "metadata": {},
   "outputs": [],
   "source": []
  }
 ],
 "metadata": {
  "kernelspec": {
   "display_name": "Python 3",
   "language": "python",
   "name": "python3"
  },
  "language_info": {
   "codemirror_mode": {
    "name": "ipython",
    "version": 3
   },
   "file_extension": ".py",
   "mimetype": "text/x-python",
   "name": "python",
   "nbconvert_exporter": "python",
   "pygments_lexer": "ipython3",
   "version": "3.7.1"
  }
 },
 "nbformat": 4,
 "nbformat_minor": 2
}
