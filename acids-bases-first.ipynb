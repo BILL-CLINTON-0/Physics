{
 "cells": [
  {
   "cell_type": "markdown",
   "metadata": {},
   "source": [
    "# Acids and Bases I"
   ]
  },
  {
   "cell_type": "code",
   "execution_count": 1,
   "metadata": {},
   "outputs": [],
   "source": [
    "%matplotlib inline"
   ]
  },
  {
   "cell_type": "code",
   "execution_count": 2,
   "metadata": {},
   "outputs": [],
   "source": [
    "import matplotlib.pyplot as plt\n",
    "import numpy as np\n",
    "import scipy.optimize as spo"
   ]
  },
  {
   "cell_type": "markdown",
   "metadata": {},
   "source": [
    "## Definitions \n",
    "\n",
    "The reaction of acids with water has to be recorded as follows: \n",
    "\n",
    "$$ AH(aq) + H_2O(l) \\rightleftharpoons A^-(aq) + H_3O^+(l) $$\n",
    "\n",
    "where $AH/A^-$ is an acid-base couple."
   ]
  },
  {
   "cell_type": "markdown",
   "metadata": {},
   "source": [
    "# Using a numerical method for Acid/Bases calculations"
   ]
  },
  {
   "cell_type": "code",
   "execution_count": 3,
   "metadata": {},
   "outputs": [],
   "source": [
    "#https://github.com/rnelsonchem/pHcalc/blob/master/pHcalc/pHcalc.py\n",
    "#https://pypi.org/project/pHcalc/\n",
    "\n",
    "class Neutral(object):\n",
    "    \"\"\"A nonreactive ion class.\n",
    "    This object defines things like K+ and Cl-, which contribute to the\n",
    "    overall charge balance, but do not have any inherent reactivity with\n",
    "    water.\n",
    "    \n",
    "    Parameters\n",
    "    ----------\n",
    "    charge : int\n",
    "        The formal charge of the ion.\n",
    "    conc : float\n",
    "        The concentration of this species in solution.\n",
    "    Attributes\n",
    "    ----------\n",
    "    charge : int\n",
    "        The formal charge of the ion.\n",
    "    conc : float\n",
    "        The concentration of this species in solution.\n",
    "    \"\"\"\n",
    "    def __init__(self, charge=None, conc=None):\n",
    "        if charge == None:\n",
    "            raise ValueError(\n",
    "                \"The charge for this ion must be defined.\")\n",
    "\n",
    "        self.charge = charge \n",
    "        self.conc = conc\n",
    "\n",
    "    def alpha(self, pH):\n",
    "        '''Return the fraction of each species at a given pH.\n",
    "        Parameters\n",
    "        ----------\n",
    "        pH : int, float, or Numpy Array\n",
    "            These are the pH value(s) over which the fraction should be\n",
    "            returned.\n",
    "        Returns\n",
    "        -------\n",
    "        Numpy NDArray\n",
    "            Because this is a non-reactive ion class, this function will\n",
    "            always return a Numpy array containing just 1.0's for all pH\n",
    "            values.\n",
    "        '''\n",
    "        if isinstance(pH, (int, float)):\n",
    "            length = 1\n",
    "        else:\n",
    "            length = len(pH)\n",
    "        ones = np.ones(length).reshape(-1,1)\n",
    "        return ones\n",
    "\n",
    "\n",
    "        \n",
    "class Acid(object):\n",
    "    '''An acidic species class.\n",
    "    This object is used to calculate a number of parameters related to a weak\n",
    "    acid in an aqueous solution. \n",
    "    \n",
    "    Parameters\n",
    "    ----------\n",
    "    Ka : None (default), float, list, Numpy Array\n",
    "        This defines the Ka values for all acidic protons in this species. It\n",
    "        can be a single Ka value (float), a list of floats, or a Numpy array\n",
    "        of floats. Either this value or pKa needs to be defined. The other\n",
    "        will then be calculated from the given values.\n",
    "    pKa : None (default), float, list, Numpy Array\n",
    "        The pKa value(s) for all the acidic protons in this species.  This\n",
    "        follows the same rules as Ka (See Ka description for more details),\n",
    "        and either this value or Ka must be defined.\n",
    "    charge : None (default), int\n",
    "        This is the charge of the fully protonated form of this acid. This\n",
    "        must be defined.\n",
    "    conc : None (default), float\n",
    "        The formal concentration of this acid in solution. This value must be\n",
    "        defined.\n",
    "    Note\n",
    "    ----\n",
    "    There is no corresponding Base object. To define a base, you must use a\n",
    "    combination of an Acid and Neutral object. See the documentation for\n",
    "    examples.\n",
    "    '''\n",
    "    def __init__(self, Ka=None, pKa=None, charge=None, conc=None):\n",
    "        # Do a couple quick checks to make sure that everything has been\n",
    "        # defined.\n",
    "        if Ka == None and pKa == None:\n",
    "            raise ValueError(\n",
    "                \"You must define either Ka or pKa values.\")\n",
    "        elif charge == None:\n",
    "            raise ValueError(\n",
    "                \"The maximum charge for this acid must be defined.\")\n",
    "\n",
    "        # Make sure both Ka and pKa are calculated. For lists of values, be\n",
    "        # sure to sort them to ensure that the most acidic species is defined\n",
    "        # first.\n",
    "        elif Ka == None:\n",
    "            if isinstance(pKa, (int, float)):\n",
    "                self.pKa = np.array( [pKa,], dtype=float)\n",
    "            else:\n",
    "                self.pKa = np.array(pKa, dtype=float)\n",
    "                self.pKa.sort()\n",
    "            self.Ka = 10**(-self.pKa) \n",
    "        elif pKa == None:\n",
    "            if isinstance(Ka, (int, float)):\n",
    "                self.Ka = np.array( [Ka,], dtype=float)\n",
    "            else:\n",
    "                self.Ka = np.array(Ka, dtype=float)\n",
    "                # Ka values must be in reverse sort order\n",
    "                self.Ka.sort()\n",
    "                self.Ka = self.Ka[::-1]\n",
    "            self.pKa = -np.log10(self.Ka)\n",
    "        # This temporary Ka array will be used to calculate alpha values. It\n",
    "        # starts with an underscore so that it won't be confusing for others.\n",
    "        self._Ka_temp = np.append(1., self.Ka)\n",
    "        \n",
    "        # Make a list of charges for each species defined by the Ka values.\n",
    "        self.charge = np.arange(charge, charge - len(self.Ka) - 1, -1)\n",
    "        # Make sure the concentrations are accessible to the object instance.\n",
    "        self.conc = conc \n",
    "\n",
    "    def alpha(self, pH):\n",
    "        '''Return the fraction of each species at a given pH.\n",
    "        Parameters\n",
    "        ----------\n",
    "        pH : int, float, or Numpy Array\n",
    "            These are the pH value(s) over which the fraction should be\n",
    "            returned.\n",
    "        Returns\n",
    "        -------\n",
    "        Numpy NDArray\n",
    "            These are the fractional concentrations at any given pH. They are\n",
    "            sorted from most acidic species to least acidic species. If a\n",
    "            NDArray of pH values is provided, then a 2D array will be\n",
    "            returned. In this case, each row represents the speciation for\n",
    "            each given pH.\n",
    "        '''\n",
    "        # If the given pH is not a list/array, be sure to convert it to one\n",
    "        # for future calcs.\n",
    "        if isinstance(pH, (int, float)):\n",
    "            pH = [pH,]\n",
    "        pH = np.array(pH, dtype=float)\n",
    "\n",
    "        # Calculate the concentration of H3O+. If multiple pH values are\n",
    "        # given, then it is best to construct a two dimensional array of\n",
    "        # concentrations.\n",
    "        h3o = 10.**(-pH)\n",
    "        if len(h3o) > 1:\n",
    "            h3o = np.repeat( h3o.reshape(-1, 1), len(self._Ka_temp), axis=1)\n",
    "\n",
    "        # These are the powers that the H3O+ concentrations will be raised.\n",
    "        power = np.arange(len(self._Ka_temp))\n",
    "        # Calculate the H3O+ concentrations raised to the powers calculated\n",
    "        # above (in reverse order).\n",
    "        h3o_pow = h3o**( power[::-1] )\n",
    "        # Calculate a cumulative product of the Ka values. The first value\n",
    "        # must be 1.0, which is why _Ka_temp is used instead of Ka.\n",
    "        Ka_prod = np.cumproduct(self._Ka_temp)\n",
    "        # Multiply the H3O**power values times the cumulative Ka product.\n",
    "        h3o_Ka = h3o_pow*Ka_prod\n",
    "\n",
    "        # Return the alpha values. The return signature will differ is the\n",
    "        # shape of the H3O array was 2-dimensional. \n",
    "        if len(h3o.shape) > 1:\n",
    "            den = h3o_Ka.sum(axis=1)\n",
    "            return h3o_Ka/den.reshape(-1,1)\n",
    "        else:\n",
    "            den = h3o_Ka.sum()\n",
    "            return h3o_Ka/den\n",
    "\n",
    "\n",
    "class System(object):\n",
    "    '''An object used to define an a system of acid and neutral species.\n",
    "    This object accepts an arbitrary number of acid and neutral species\n",
    "    objects and uses these to calculate the pH of the system. Be sure to\n",
    "    include all of the species that completely define the contents of a\n",
    "    particular solution.\n",
    "    Parameters\n",
    "    ----------\n",
    "    *species \n",
    "        These are any number of Acid and Neutral objects that you'd like to\n",
    "        use to define your system.\n",
    "    Attibutes\n",
    "    ---------\n",
    "    species : list\n",
    "        This is a list containing all of the species that you input.\n",
    "    pHsolution \n",
    "        This is the full minimization output, which is defined by the function\n",
    "        scipy.optimize.minimize. This is only available after running the\n",
    "        pHsolve method.\n",
    "    pH : float\n",
    "        The pH of this particular system. This is only calculated after\n",
    "        running the pHsolve method.\n",
    "    '''\n",
    "    def __init__(self, *species):\n",
    "        self.species = species\n",
    "\n",
    "\n",
    "    def _diff_pos_neg(self, pH):\n",
    "        '''Calculate the charge balance difference.\n",
    "        Parameters\n",
    "        ----------\n",
    "        pH : int, float, or Numpy Array\n",
    "            The pH value(s) used to calculate the different distributions of\n",
    "            positive and negative species.\n",
    "        Returns\n",
    "        -------\n",
    "        float or Numpy Array\n",
    "            The absolute value of the difference in concentration between the\n",
    "            positive and negatively charged species in the system. A float is\n",
    "            returned if an int or float is input as the pH: a Numpy array is\n",
    "            returned if an array of pH values is used as the input.\n",
    "        '''\n",
    "        twoD = True\n",
    "        if isinstance(pH, (int, float)) or pH.shape[0] == 1:\n",
    "            twoD = False\n",
    "        else:\n",
    "            pH = np.array(pH, dtype=float)\n",
    "        # Calculate the h3o and oh concentrations and sum them up.\n",
    "        h3o = 10.**(-pH)\n",
    "        oh = (10.**(-14))/h3o\n",
    "        x = (h3o - oh)\n",
    "\n",
    "        # Go through all the species that were given, and sum up their\n",
    "        # charge*concentration values into our total sum.\n",
    "        for s in self.species:\n",
    "            if twoD == False:\n",
    "                x += (s.conc*s.charge*s.alpha(pH)).sum()\n",
    "            else:\n",
    "                x += (s.conc*s.charge*s.alpha(pH)).sum(axis=1)\n",
    "        \n",
    "        # Return the absolute value so it never goes below zero.\n",
    "        return np.abs(x)\n",
    "        \n",
    "\n",
    "    def pHsolve(self, guess=7.0, guess_est=False, est_num=1500, \n",
    "                method='Nelder-Mead', tol=1e-5):\n",
    "        '''Solve the pH of the system.\n",
    "        The pH solving is done using a simple minimization algorithm which\n",
    "        minimizes the difference in the total positive and negative ion\n",
    "        concentrations in the system. The minimization algorithm can be\n",
    "        adjusted using the `method` keyword argument. The available methods\n",
    "        can be found in the documentation for the scipy.optimize.minimize\n",
    "        function.\n",
    "        \n",
    "        A good initial guess may help the minimization. It can be set manually\n",
    "        using the `guess` keyword, which defaults to 7.0. There is an\n",
    "        automated method that can be run as well if you set the `guess_est`\n",
    "        argument. This will override whatever you pass is for `guess`. The\n",
    "        `est_num` keyword sets the number of data points that you'd like to\n",
    "        use for finding the guess estimate. Too few points might start you\n",
    "        pretty far from the actual minimum; too many points is probably\n",
    "        overkill and won't help much. This may or may not speed things up.\n",
    "        Parameters\n",
    "        ----------\n",
    "        guess : float (default 7.0)\n",
    "            This is used as the initial guess of the pH for the system. \n",
    "        guess_est : bool (default False)\n",
    "            Run a simple algorithm to determine a best guess for the initial\n",
    "            pH of the solution. This may or may not slow down the calculation\n",
    "            of the pH.\n",
    "        est_num : int (default 1500)\n",
    "            The number of data points to use in the pH guess estimation.\n",
    "            Ignored unless `guess_est=True`.\n",
    "        method : str (default 'Nelder-Mead')\n",
    "            The minimization method used to find the pH. The possible values\n",
    "            for this variable are defined in the documentation for the\n",
    "            scipy.optimize.minimize function.\n",
    "        tol : float (default 1e-5)\n",
    "            The tolerance used to determine convergence of the minimization\n",
    "            function.\n",
    "        '''\n",
    "        if guess_est == True:\n",
    "            phs = np.linspace(0, 14, est_num)\n",
    "            guesses = self._diff_pos_neg(phs)\n",
    "            guess_idx = guesses.argmin()\n",
    "            guess = phs[guess_idx]\n",
    "            \n",
    "        self.pHsolution = spo.minimize(self._diff_pos_neg, guess, \n",
    "                method=method, tol=tol)\n",
    "        \n",
    "        if self.pHsolution.success == False:\n",
    "            print('Warning: Unsuccessful pH optimization!')\n",
    "            print(self.pHsolution.message)\n",
    "            \n",
    "        if len(self.pHsolution.x) == 1:\n",
    "            self.pH = self.pHsolution.x[0]\n"
   ]
  },
  {
   "cell_type": "markdown",
   "metadata": {},
   "source": [
    "# pH of strong acid solutions\n",
    "\n",
    "First of all, HCl completely dissociates in water to give equal amounts of $H_3O^+$ and $Cl^-$. Because $H_3O^+$ is adjusted internally, all you need to define is $Cl^-$. This implies a single equivalent of $H_3O^+$ in order to balance the charge of the system.\n",
    "\n",
    "$$ HCl(g) +H_2O(l) \\longrightarrow H_3O^+(l) + Cl^-(aq)$$\n",
    "\n",
    "You just need to define the amount of Cl-. The solver will find the correct $H_3O^+$ concentration. \"M\" stands for molar, which means $1\\,mol.L^{-1}$"
   ]
  },
  {
   "cell_type": "code",
   "execution_count": 4,
   "metadata": {},
   "outputs": [
    {
     "name": "stdout",
     "output_type": "stream",
     "text": [
      "HCl at 1e-1 M has a  pH = 7.00\n"
     ]
    }
   ],
   "source": [
    "# [HCl] = 1.0 x 1E-1 \n",
    "cl1 = Neutral(charge=-1, conc=1E-30) # [H3O+] in mol.L-1 \n",
    "s = System(cl1)\n",
    "s.pHsolve()\n",
    "print('HCl at 1e-1 M has a  pH = {:0.2f}'.format(s.pH))"
   ]
  },
  {
   "cell_type": "code",
   "execution_count": 5,
   "metadata": {},
   "outputs": [
    {
     "name": "stdout",
     "output_type": "stream",
     "text": [
      "HCl at 1e-8 M has a pH = 6.98\n"
     ]
    }
   ],
   "source": [
    "# [HCl] = 1.0 x 1E-8   \n",
    "\n",
    "cl2 = Neutral(charge=-1, conc=1e-8)\n",
    "s = System(cl2)\n",
    "s.pHsolve()\n",
    "print('HCl at 1e-8 M has a pH = {:0.2f}'.format(s.pH))\n"
   ]
  },
  {
   "cell_type": "markdown",
   "metadata": {},
   "source": [
    "# pH of strong basic solutions\n",
    "\n",
    "Again for strong bases the dissociation is going to be complette :\n",
    "\n",
    "$$ KOH  \\longrightarrow HO^- + K^+$$"
   ]
  },
  {
   "cell_type": "code",
   "execution_count": 6,
   "metadata": {},
   "outputs": [
    {
     "name": "stdout",
     "output_type": "stream",
     "text": [
      "KOH at 0.1 M has a pH = 13.00\n"
     ]
    }
   ],
   "source": [
    "# KOH, just need to define the amount of K+.\n",
    "a = Neutral(charge=+1, conc=0.1) # to define a base another combination of is needed\n",
    "s = System(a)\n",
    "s.pHsolve()\n",
    "print('KOH at 0.1 M has a pH = {:0.2f}'.format(s.pH))\n"
   ]
  },
  {
   "cell_type": "code",
   "execution_count": 7,
   "metadata": {},
   "outputs": [
    {
     "name": "stdout",
     "output_type": "stream",
     "text": [
      "KOH at 0.1 M has a pH = 7.00\n"
     ]
    }
   ],
   "source": [
    "# KOH, just need to define the amount of K+.\n",
    "a = Neutral(charge=+1, conc=1E-10) # to define a base another combination of is needed\n",
    "s = System(a)\n",
    "s.pHsolve()\n",
    "print('KOH at 0.1 M has a pH = {:0.2f}'.format(s.pH))\n"
   ]
  },
  {
   "cell_type": "markdown",
   "metadata": {},
   "source": [
    "#### Question 1)\n",
    "Write a cell with a solution that could give you a pH of 3.3\n",
    "You need to chose a strong acid.\n",
    "\n",
    "Answer here :"
   ]
  },
  {
   "cell_type": "code",
   "execution_count": 8,
   "metadata": {},
   "outputs": [],
   "source": [
    "### BEGIN SOLUTION\n",
    "\n",
    "### END SOLUTION"
   ]
  },
  {
   "cell_type": "markdown",
   "metadata": {},
   "source": [
    "#### Question 2)\n",
    "Write a cell with a solution that could give you a pH of 8.7\n",
    "You need to chose a strong base.\n",
    "\n",
    "Answer here :"
   ]
  },
  {
   "cell_type": "code",
   "execution_count": 9,
   "metadata": {},
   "outputs": [],
   "source": [
    "### BEGIN SOLUTION\n",
    "\n",
    "### END SOLUTION"
   ]
  },
  {
   "cell_type": "markdown",
   "metadata": {},
   "source": [
    "#  Titration of carbonic acid\n",
    "\n",
    "The following theoretical example aims at showing the double reaction : \n",
    "\n",
    "$$ H_2CO_3(aq) + HO^-(aq) \\rightleftharpoons HCO_3^{-}(aq) +H_2O(l) $$ pKa1=6.4 at 25°C\n",
    "\n",
    "$$ HCO_3^{-}(aq) + HO^-(aq) \\rightleftharpoons CO_3^{2-}(aq) +H_2O(l) $$ pKa2=10.3 at 25°C\n",
    "\n",
    "A picture is diplayed and saved on the same directory"
   ]
  },
  {
   "cell_type": "code",
   "execution_count": 10,
   "metadata": {},
   "outputs": [
    {
     "data": {
      "image/png": "[encoded data removed]",
      "text/plain": [
       "<Figure size 432x288 with 1 Axes>"
      ]
     },
     "metadata": {
      "needs_background": "light"
     },
     "output_type": "display_data"
    }
   ],
   "source": [
    "na_moles = np.linspace(1e-4, 10.e-3, 500)\n",
    "sol_volume = 1. # Liter\n",
    "carbo= Acid(pKa=[6.4,10.3], charge=0, conc=1.e-3) # pKa given at 25°C\n",
    "phs = []\n",
    "for mol in na_moles:\n",
    "     na = Neutral(charge=1, conc=mol/sol_volume)\n",
    "     system = System(carbo, na)\n",
    "     system.pHsolve(guess_est=True)\n",
    "     phs.append(system.pH)\n",
    "plt.plot(na_moles, phs)\n",
    "\n",
    "plt.title('Titration of Carbonic acid by HO- ions')\n",
    "plt.xlabel('Number of moles of sodium hydroxyde in solution')\n",
    "plt.ylabel('pH')\n",
    "plt.savefig(\"titration.png\")\n",
    "plt.show()"
   ]
  },
  {
   "cell_type": "code",
   "execution_count": null,
   "metadata": {},
   "outputs": [],
   "source": []
  }
 ],
 "metadata": {
  "kernelspec": {
   "display_name": "Python 3",
   "language": "python",
   "name": "python3"
  },
  "language_info": {
   "codemirror_mode": {
    "name": "ipython",
    "version": 3
   },
   "file_extension": ".py",
   "mimetype": "text/x-python",
   "name": "python",
   "nbconvert_exporter": "python",
   "pygments_lexer": "ipython3",
   "version": "3.7.1"
  }
 },
 "nbformat": 4,
 "nbformat_minor": 2
}
