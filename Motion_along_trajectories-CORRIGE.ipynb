{
  "nbformat": 4,
  "nbformat_minor": 0,
  "metadata": {
    "kernelspec": {
      "display_name": "Python 3",
      "language": "python",
      "name": "python3"
    },
    "language_info": {
      "codemirror_mode": {
        "name": "ipython",
        "version": 3
      },
      "file_extension": ".py",
      "mimetype": "text/x-python",
      "name": "python",
      "nbconvert_exporter": "python",
      "pygments_lexer": "ipython3",
      "version": "3.7.1"
    },
    "colab": {
      "name": "Motion_along_trajectories.ipynb",
      "provenance": [],
      "collapsed_sections": []
    }
  },
  "cells": [
    {
      "cell_type": "markdown",
      "metadata": {
        "id": "nELnU4JpmpoH"
      },
      "source": [
        "# Companion Notebook for the lecture in frame calculations\n",
        "\n",
        "This Notebook serves as a guide to do an physical *analysis numericaly* for the exercices of the lecture. \n",
        "\n",
        "Each cell has to be executed one after the other."
      ]
    },
    {
      "cell_type": "code",
      "metadata": {
        "id": "FC7VMRfnmpoR"
      },
      "source": [
        "# Please enter the your Surname in capital letters\n",
        "SURNAME = \" \"\n",
        "# If you did associate with other students please enter their Surname also\n",
        "COLLABORATORS = \" \" \n",
        "# Date : Paris January the 17, 2021"
      ],
      "execution_count": null,
      "outputs": []
    },
    {
      "cell_type": "code",
      "metadata": {
        "id": "tTKxsUOkmpoS"
      },
      "source": [
        "# Important libraries to import\n",
        "\n",
        "import numpy as np\n",
        "import matplotlib.pyplot as plt"
      ],
      "execution_count": 3,
      "outputs": []
    },
    {
      "cell_type": "markdown",
      "metadata": {
        "id": "97EMVPsampoT"
      },
      "source": [
        "## A) Trajectory \n",
        "\n",
        "We need to know the velocity at any specific instant of time or specific point along the path. This is called **instantaneous velocity** .\n",
        "\n",
        "\n",
        "\n",
        "- CAUTION : How long is an instant? Note that the word \"instant\" has a somewhat different definition in physics than in everyday language. You might use the phrase \"It lasted just an instant\" to refer to something that lasted for a very shan time interval. But in physics an instant has no duration at all; it refers to a single value of time\n",
        "\n",
        "We call $t$ any time in seconds to the initial position of the plane"
      ]
    },
    {
      "cell_type": "code",
      "metadata": {
        "id": "c_A9ZeKFmpoU"
      },
      "source": [
        "t=[0.0, 20.0, 40.0, 60.0, 80.0, 100.0, 120.0, 140.0, 160.0, 180.0, 200.0, 220.0\n",
        "   , 240.0, 260.0, 280.0, 300.0, 320.0, 340.0]\n"
      ],
      "execution_count": null,
      "outputs": []
    },
    {
      "cell_type": "markdown",
      "metadata": {
        "id": "86xQHyIVmpoU"
      },
      "source": [
        "The formal definition of instant velocity is: \n",
        "\n",
        "$$ v_{(\\vec {r})}=\\frac{d\\,\\vec {r}}{dt} $$\n",
        "\n",
        "Where $\\vec {r}$ is the position vector in a frame."
      ]
    },
    {
      "cell_type": "code",
      "metadata": {
        "id": "tJzd4P0lmpoV",
        "colab": {
          "base_uri": "https://localhost:8080/"
        },
        "outputId": "f0597f1e-e0c9-40c8-efb3-7e0fec37c3a7"
      },
      "source": [
        "# First check that t contains 18 values\n",
        "len(t)"
      ],
      "execution_count": null,
      "outputs": [
        {
          "output_type": "execute_result",
          "data": {
            "text/plain": [
              "18"
            ]
          },
          "metadata": {
            "tags": []
          },
          "execution_count": 4
        }
      ]
    },
    {
      "cell_type": "code",
      "metadata": {
        "id": "075HyFQLmpoW"
      },
      "source": [
        "# Declare the coordinates for the first plane\n",
        "x1=[3.52E4, 3.79E4, 4.04E4, 4.27E4, 4.52E4, 4.62E4, 4.60E4, 4.60E4, 4.60E4, \n",
        "    4.37E4, 4.13E4, 3.89E4, 3.65E4, 3.41E4, 3.21E4, 3.02E4, 2.81E4, 2.61E4]\n",
        "y1=[-9.67E3, -9.09E3, -8.38E3, -7.68E3, -6.92E3, -4.69E3, -2.52E3, -1.76E2, \n",
        "     1.93E3,  3.46E3,  3.99E3,  3.93E3,  3.75E3,  3.63E3,  3.46E3,  3.34E3, \n",
        "     3.17E3,  2.99E3]\n",
        "\n",
        "# Declare the coordinates for the second plane\n",
        "x2=[4.89E4, 4.69E4, 4.49E4, 4.28E4, 4.11E4, 3.92E4, 3.73E4, 3.53E4, 3.34E4,\n",
        "    3.14E4, 2.95E4, 2.76E4, 2.59E4, 2.41E4, 2.24E4, 2.08E4, 1.92E4, 1.75E4]\n",
        "y2=[1.15E4, 1.01E4, 8.79E3, 7.50E3, 6.27E3, 4.98E3, 3.87E3, 3.40E3, 3.52E3,\n",
        "    3.34E3, 3.22E3, 3.11E3, 2.99E3, 2.87E3, 2.70E3, 2.64E3, 2.46E3, 2.40E3]\n",
        " "
      ],
      "execution_count": null,
      "outputs": []
    },
    {
      "cell_type": "code",
      "metadata": {
        "id": "I-CqnISempoX",
        "colab": {
          "base_uri": "https://localhost:8080/",
          "height": 504
        },
        "outputId": "d4c43121-664e-49f4-b394-27354e0b2e44"
      },
      "source": [
        "#----- Plotting of points and trajectories y1=f(x1) and y2=f(x2)-----  \n",
        "\n",
        "# initialization of the figure, name and size of the viewing window\n",
        "\n",
        "plt.figure('Planes fly in the sky',figsize=(9,7),dpi=80)\n",
        "\n",
        "plt.title('Trajectory of each plane') # title\n",
        "plt.xlabel('x(in m)')              # legend of the abscissa  \"ex\" axis\n",
        "plt.ylabel('y(in m)')              # legend of the ordinate \"ey\" axis\n",
        "plt.axis('equal')               # same sclale for both axis\n",
        "\n",
        "\n",
        "# Representation of coordinate points (x1(t),y1(t)),red 'r',shape 'o',\n",
        "# size 2, connected by fine dotted lines 0.2 min thick \n",
        "\n",
        "plt.plot(x1,y1,'ro--',ms=2,lw=0.2)\n",
        "\n",
        "plt.show()"
      ],
      "execution_count": null,
      "outputs": [
        {
          "output_type": "display_data",
          "data": {
            "image/png": "[encoded data removed]",
            "text/plain": [
              "<Figure size 720x560 with 1 Axes>"
            ]
          },
          "metadata": {
            "tags": [],
            "needs_background": "light"
          }
        }
      ]
    },
    {
      "cell_type": "markdown",
      "metadata": {
        "id": "Wodi1AcimpoX"
      },
      "source": [
        "#### Question 1\n",
        "Trace add the corresponding lines to trace the trajectory of the second plane : blue 'b',shape '-', size 3, connected by fine dotted lines 0.3 dots thick \n",
        "\n",
        "Answer below"
      ]
    },
    {
      "cell_type": "code",
      "metadata": {
        "id": "OWiWJgW6mpoX"
      },
      "source": [
        "### BEGIN SOLUTION\n",
        "\n",
        "### END SOLUTION"
      ],
      "execution_count": null,
      "outputs": []
    },
    {
      "cell_type": "code",
      "metadata": {
        "id": "euCvBOC6mpoY",
        "colab": {
          "base_uri": "https://localhost:8080/",
          "height": 295
        },
        "outputId": "b6ca1de2-1fa3-4039-9def-9a9d044fd455"
      },
      "source": [
        "# Continuation of the program\n",
        "\n",
        "# DESCRIPTION OF THE SPEED\n",
        "\n",
        "#-----Tracing speed vectors every 2 positions-----\n",
        "# e corresponds to the scale for the representation of the velocity vector\n",
        "\n",
        "e=15\n",
        "\n",
        "# for loop to plot the different speed vectors\n",
        "\n",
        "for j in range(0,9):\n",
        "    i=2*j\n",
        "    \n",
        "    dx=(x1[i+1]-x1[i])/(t[i+1]-t[i])\n",
        "    dy=(y1[i+1]-y1[i])/(t[i+1]-t[i])\n",
        "    \n",
        "    plt.arrow(x1[i], y1[i], e*dx, e*dy,\n",
        "              length_includes_head=\"true\",width=80,fc='r',ec='r')\n",
        "\n",
        "plt.plot(x1,y1,'ro--',ms=2,lw=0.2)  \n",
        "\n",
        "\n",
        "# Display the same attributes to the graphic\n",
        "plt.title('Speed vectors of each plane') # title\n",
        "plt.xlabel('x (in m)')              # legend of the abscissa  \"ex\" axis\n",
        "plt.ylabel('y (in m)')              # legend of the ordinate \"ey\" axis\n",
        "plt.show()"
      ],
      "execution_count": null,
      "outputs": [
        {
          "output_type": "display_data",
          "data": {
            "image/png": "[encoded data removed]",
            "text/plain": [
              "<Figure size 432x288 with 1 Axes>"
            ]
          },
          "metadata": {
            "tags": [],
            "needs_background": "light"
          }
        }
      ]
    },
    {
      "cell_type": "markdown",
      "metadata": {
        "id": "hECzpMwnmpoY"
      },
      "source": [
        "#### Question 2\n",
        "Trace add the corresponding lines to trace the speed vector of the second plane : blue 'b',with length including head, width of 80 points, . \n",
        "\n",
        "Answer below"
      ]
    },
    {
      "cell_type": "code",
      "metadata": {
        "id": "vsDX9rTqm_6Z"
      },
      "source": [
        "### BEGIN SOLUTION\n",
        "\n",
        "### END SOLUTION"
      ],
      "execution_count": null,
      "outputs": []
    },
    {
      "cell_type": "markdown",
      "metadata": {
        "id": "2viZVo4enBcw"
      },
      "source": [
        "## B) Operators on vectors\n",
        "\n",
        "The sclalar product of two vectors returns a scalar.\n",
        "\n",
        "Program function `scal_prod` inside of a cell in order to get a scalar product done:\n",
        "$$ \\overrightarrow{OM}_1 \\bullet \\overrightarrow{OM}_2 $$"
      ]
    },
    {
      "cell_type": "code",
      "metadata": {
        "id": "yHcgzmvinBcx"
      },
      "source": [
        "from operator import mul\n",
        "def scal_prod(OM1,OM2):\n",
        "    return sum(map(mul,OM1,OM2))"
      ],
      "execution_count": null,
      "outputs": []
    },
    {
      "cell_type": "code",
      "metadata": {
        "colab": {
          "base_uri": "https://localhost:8080/"
        },
        "id": "yvKeD1WYnBcx",
        "outputId": "33c8a0ee-b5be-4d6d-9183-57948b26f4db"
      },
      "source": [
        "# Check you function here with tho orthogonal vectors :\n",
        "scal_prod([1,0,0],[0,1,0])"
      ],
      "execution_count": null,
      "outputs": [
        {
          "output_type": "execute_result",
          "data": {
            "text/plain": [
              "0"
            ]
          },
          "metadata": {
            "tags": []
          },
          "execution_count": 11
        }
      ]
    },
    {
      "cell_type": "code",
      "metadata": {
        "id": "W29ovGwbnBcy"
      },
      "source": [
        ""
      ],
      "execution_count": null,
      "outputs": []
    },
    {
      "cell_type": "markdown",
      "metadata": {
        "id": "MKnOZ0NCndyV"
      },
      "source": [
        "### The norm of a Vector\n",
        "To acces the magnitude of a vector $ \\biggl\\lVert  \\overrightarrow{M_1M_2}\\biggr\\rVert$ we can make the scalar product of this vector by itself.\n",
        "Programm a function `norm` that gives the norm of a vector in a cartesian frame."
      ]
    },
    {
      "cell_type": "code",
      "metadata": {
        "id": "fra-rKbcomb5"
      },
      "source": [
        "def norm(vector):\n",
        "  return (vector[0]**2 + vector[1]**2 + vector[2]**2)**0.5"
      ],
      "execution_count": 6,
      "outputs": []
    },
    {
      "cell_type": "code",
      "metadata": {
        "colab": {
          "base_uri": "https://localhost:8080/"
        },
        "id": "JcaGiR8od32E",
        "outputId": "be5da948-45ad-4792-c182-34f337758a5d"
      },
      "source": [
        "M1M2=np.array([1,2,3])\n",
        "norm(M1M2)"
      ],
      "execution_count": 7,
      "outputs": [
        {
          "output_type": "execute_result",
          "data": {
            "text/plain": [
              "3.7416573867739413"
            ]
          },
          "metadata": {
            "tags": []
          },
          "execution_count": 7
        }
      ]
    },
    {
      "cell_type": "code",
      "metadata": {
        "colab": {
          "base_uri": "https://localhost:8080/"
        },
        "id": "sg4DOdmMeWC1",
        "outputId": "42568c04-98ec-481a-c776-33ef6db5a545"
      },
      "source": [
        "(1**2+2**2+3**2)**0.5"
      ],
      "execution_count": 8,
      "outputs": [
        {
          "output_type": "execute_result",
          "data": {
            "text/plain": [
              "3.7416573867739413"
            ]
          },
          "metadata": {
            "tags": []
          },
          "execution_count": 8
        }
      ]
    },
    {
      "cell_type": "markdown",
      "metadata": {
        "id": "oyieECOqmpoZ"
      },
      "source": [
        "# C) The lenght of a path\n",
        "\n",
        "We walk along a the following path. What is the distance covered ?"
      ]
    },
    {
      "cell_type": "markdown",
      "metadata": {
        "id": "g63Qvn1epcA9"
      },
      "source": [
        "The first exercice is a solved problem."
      ]
    },
    {
      "cell_type": "code",
      "metadata": {
        "id": "Aiyv6Y2RmpoZ",
        "colab": {
          "base_uri": "https://localhost:8080/",
          "height": 279
        },
        "outputId": "2f387060-fb4a-4b08-aea1-78c1157c01a5"
      },
      "source": [
        "# Variables \n",
        "c = 1  # meter . second -3\n",
        "a = 4  # meter . second -2\n",
        "\n",
        "t = np.linspace(0,3,20)\n",
        "x = c*t**3\n",
        "z = a*t**2\n",
        "\n",
        "plt.plot(x,z,'ro--',ms=2,lw=0.2)\n",
        "plt.xlabel('x (in m)')\n",
        "plt.ylabel('z (in m)')\n",
        "plt.show()"
      ],
      "execution_count": null,
      "outputs": [
        {
          "output_type": "display_data",
          "data": {
            "image/png": "[encoded data removed]",
            "text/plain": [
              "<Figure size 432x288 with 1 Axes>"
            ]
          },
          "metadata": {
            "tags": [],
            "needs_background": "light"
          }
        }
      ]
    },
    {
      "cell_type": "markdown",
      "metadata": {
        "id": "DQH7V36YmpoZ"
      },
      "source": [
        "The straight line is obtained by integrating the vectorial elementary displacement ; it is the norm of the vector that connects the starting point $O$ to the ending point $P$.\n",
        "\n",
        "$$ D = \\biggl\\lVert \\int_{t_O}^{t_F} d\\vec{l} \\biggr\\rVert $$\n",
        "\n",
        "$$ D = \\biggl\\lVert \\vec{OF} \\biggr\\rVert = \\sqrt{{(x_F-x_O)}^2 + {(x_F-x_O)}^2} $$"
      ]
    },
    {
      "cell_type": "markdown",
      "metadata": {
        "id": "fUsY9Iskmpoa"
      },
      "source": [
        "#### Question 3 (solved)\n",
        "Propose a piece of code to estimate the lenght corresponding to the distance covered between $t_O=0\\,s$ and $t_F=0\\,s$.\n",
        "\n",
        "Compare the obtained result with the distance corresponding to the straight line (shorter path).\n",
        "\n",
        "Answers below"
      ]
    },
    {
      "cell_type": "code",
      "metadata": {
        "id": "8oB8T4Iqmpoa",
        "colab": {
          "base_uri": "https://localhost:8080/"
        },
        "outputId": "dfb0ca98-7c2b-45b8-b1cf-56bfadb3ab6a"
      },
      "source": [
        "### BEGIN SOLUTION\n",
        "\n",
        "# The covered distance is calculated as follows :\n",
        "\n",
        "# Initialize variables\n",
        "Integral=[]\n",
        "Var_int=0\n",
        "\n",
        "npoints = 100\n",
        "t0 = 0\n",
        "tF = 2\n",
        "dt = tF/(npoints-1)\n",
        "\n",
        "\n",
        "# list of times in seconds\n",
        "t = np.arange(t0, tF+dt , dt)\n",
        "\n",
        "for ti in t:\n",
        "    Var_int += ti*(9*c**2*ti**2+4*a**2)**0.5*dt\n",
        "    \n",
        "\n",
        "print(\"The lenght of the full path is L = {:0.2f} m\".format(Var_int)) \n",
        "\n",
        "### END SOLUTION"
      ],
      "execution_count": null,
      "outputs": [
        {
          "output_type": "stream",
          "text": [
            "The lenght of the full path is L = 18.28 m\n"
          ],
          "name": "stdout"
        }
      ]
    },
    {
      "cell_type": "code",
      "metadata": {
        "id": "3vAZrIf_pzCf"
      },
      "source": [
        ""
      ],
      "execution_count": null,
      "outputs": []
    },
    {
      "cell_type": "code",
      "metadata": {
        "colab": {
          "base_uri": "https://localhost:8080/"
        },
        "id": "IbzUGErQnBcy",
        "outputId": "82b5051d-e15c-413f-8913-045e3a77c016"
      },
      "source": [
        "# The shorter distance is calculated as follows :\n",
        "\n",
        "D=(8**2*c**2 + 4**2*a**2)**0.5\n",
        "print(\"The lenght of the shortest path is L = {:0.2f} m\".format(D))"
      ],
      "execution_count": null,
      "outputs": [
        {
          "output_type": "stream",
          "text": [
            "The lenght of the shortest path is L = 17.89 m\n"
          ],
          "name": "stdout"
        }
      ]
    },
    {
      "cell_type": "markdown",
      "metadata": {
        "id": "7lnQXW7mrYtb"
      },
      "source": [
        "#### Question 3 (to be solved)\n",
        "From the following curve of CORNU calculate the lenght of the path covered during the lapse of time.\n",
        "\n",
        "\n",
        "\n"
      ]
    },
    {
      "cell_type": "code",
      "metadata": {
        "colab": {
          "base_uri": "https://localhost:8080/",
          "height": 363
        },
        "id": "09S-Rlz-qOvn",
        "outputId": "feb42c8a-e74b-4777-bcb3-945afaf701cf"
      },
      "source": [
        "from scipy.special import fresnel\n",
        "  \n",
        "tO=-1\n",
        "tF=1\n",
        "\n",
        "t = np.linspace(tO, tF, 10)\n",
        "y, x = fresnel(t)\n",
        "\n",
        "\n",
        "plt.plot(x, y,'ro--',ms=2,lw=0.2)\n",
        "plt.title('Trajectory') # title\n",
        "plt.xlabel('x(in m)')              # legend of the abscissa  \"ex\" axis\n",
        "plt.ylabel('y(in m)')              # legend of the ordinate \"ey\" axis\n",
        "plt.axis('equal')                  # same sclale for both axis\n"
      ],
      "execution_count": null,
      "outputs": [
        {
          "output_type": "execute_result",
          "data": {
            "text/plain": [
              "(-0.8578827404145053,\n",
              " 0.8578827404145053,\n",
              " -0.4820850621293902,\n",
              " 0.4820850621293902)"
            ]
          },
          "metadata": {
            "tags": []
          },
          "execution_count": 15
        },
        {
          "output_type": "display_data",
          "data": {
            "image/png": "[encoded data removed]",
            "text/plain": [
              "<Figure size 432x288 with 1 Axes>"
            ]
          },
          "metadata": {
            "tags": [],
            "needs_background": "light"
          }
        }
      ]
    },
    {
      "cell_type": "code",
      "metadata": {
        "id": "jo-hRwSHsc90"
      },
      "source": [
        "### BEGIN SOLUTION\n",
        "\n",
        "\n",
        "### END SOLUTION"
      ],
      "execution_count": null,
      "outputs": []
    }
  ]
}